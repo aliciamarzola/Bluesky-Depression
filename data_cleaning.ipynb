{
 "cells": [
  {
   "cell_type": "code",
   "execution_count": 1,
   "metadata": {},
   "outputs": [],
   "source": [
    "import pandas as pd \n",
    "import numpy as np \n",
    "import matplotlib.pyplot as plt "
   ]
  },
  {
   "cell_type": "code",
   "execution_count": null,
   "metadata": {},
   "outputs": [],
   "source": []
  },
  {
   "cell_type": "code",
   "execution_count": 12,
   "metadata": {},
   "outputs": [
    {
     "data": {
      "text/html": [
       "<div>\n",
       "<style scoped>\n",
       "    .dataframe tbody tr th:only-of-type {\n",
       "        vertical-align: middle;\n",
       "    }\n",
       "\n",
       "    .dataframe tbody tr th {\n",
       "        vertical-align: top;\n",
       "    }\n",
       "\n",
       "    .dataframe thead th {\n",
       "        text-align: right;\n",
       "    }\n",
       "</style>\n",
       "<table border=\"1\" class=\"dataframe\">\n",
       "  <thead>\n",
       "    <tr style=\"text-align: right;\">\n",
       "      <th></th>\n",
       "      <th>text</th>\n",
       "      <th>repostCount</th>\n",
       "      <th>replyCount</th>\n",
       "      <th>link</th>\n",
       "      <th>image</th>\n",
       "      <th>createdAt</th>\n",
       "      <th>depressive</th>\n",
       "    </tr>\n",
       "  </thead>\n",
       "  <tbody>\n",
       "    <tr>\n",
       "      <th>0</th>\n",
       "      <td>you are worthy even if you:\\n\\nare battling de...</td>\n",
       "      <td>3</td>\n",
       "      <td>1</td>\n",
       "      <td>0</td>\n",
       "      <td>1</td>\n",
       "      <td>2024-10-12T21:52:30.121Z</td>\n",
       "      <td>0</td>\n",
       "    </tr>\n",
       "    <tr>\n",
       "      <th>1</th>\n",
       "      <td>Well dunno really \\nJust saw them posting suic...</td>\n",
       "      <td>0</td>\n",
       "      <td>1</td>\n",
       "      <td>0</td>\n",
       "      <td>0</td>\n",
       "      <td>2023-09-03T03:07:41.109Z</td>\n",
       "      <td>0</td>\n",
       "    </tr>\n",
       "    <tr>\n",
       "      <th>2</th>\n",
       "      <td>There was a claim — maybe a rumor — that three...</td>\n",
       "      <td>60</td>\n",
       "      <td>41</td>\n",
       "      <td>0</td>\n",
       "      <td>0</td>\n",
       "      <td>2024-11-08T19:21:39.224Z</td>\n",
       "      <td>0</td>\n",
       "    </tr>\n",
       "    <tr>\n",
       "      <th>3</th>\n",
       "      <td>#SuicidePrevention #Depression #Anxiety #Bully...</td>\n",
       "      <td>0</td>\n",
       "      <td>0</td>\n",
       "      <td>1</td>\n",
       "      <td>0</td>\n",
       "      <td>2022-03-16T13:10:05Z</td>\n",
       "      <td>0</td>\n",
       "    </tr>\n",
       "    <tr>\n",
       "      <th>4</th>\n",
       "      <td>ah shit damn guess i should have just been kil...</td>\n",
       "      <td>0</td>\n",
       "      <td>2</td>\n",
       "      <td>0</td>\n",
       "      <td>0</td>\n",
       "      <td>2024-09-06T22:19:19.694Z</td>\n",
       "      <td>0</td>\n",
       "    </tr>\n",
       "  </tbody>\n",
       "</table>\n",
       "</div>"
      ],
      "text/plain": [
       "                                                text  repostCount  replyCount  \\\n",
       "0  you are worthy even if you:\\n\\nare battling de...            3           1   \n",
       "1  Well dunno really \\nJust saw them posting suic...            0           1   \n",
       "2  There was a claim — maybe a rumor — that three...           60          41   \n",
       "3  #SuicidePrevention #Depression #Anxiety #Bully...            0           0   \n",
       "4  ah shit damn guess i should have just been kil...            0           2   \n",
       "\n",
       "   link  image                 createdAt  depressive  \n",
       "0     0      1  2024-10-12T21:52:30.121Z           0  \n",
       "1     0      0  2023-09-03T03:07:41.109Z           0  \n",
       "2     0      0  2024-11-08T19:21:39.224Z           0  \n",
       "3     1      0      2022-03-16T13:10:05Z           0  \n",
       "4     0      0  2024-09-06T22:19:19.694Z           0  "
      ]
     },
     "execution_count": 12,
     "metadata": {},
     "output_type": "execute_result"
    }
   ],
   "source": [
    "scraper1 = pd.read_csv('scrapers/scraper1.csv')\n",
    "scraper2 = pd.read_csv('scrapers/scraper2.csv')\n",
    "\n",
    "dataset = pd.concat([scraper1, scraper2])\n",
    "\n",
    "dataset['link'] = dataset.apply(lambda row: 0 if pd.isna(row['link/uri']) else 1, axis=1)\n",
    "dataset['image'] = dataset.apply(lambda row: 0 if pd.isna(row['images/0/alt']) else 1, axis=1)\n",
    "\n",
    "dataset = dataset[['text', 'repostCount', 'replyCount', 'link', 'image', 'createdAt']]\n",
    "dataset['depressive'] = 0\n",
    "\n",
    "dataset.head()"
   ]
  },
  {
   "cell_type": "code",
   "execution_count": 14,
   "metadata": {},
   "outputs": [],
   "source": [
    "dataset.to_csv('dataset.csv')"
   ]
  },
  {
   "cell_type": "code",
   "execution_count": null,
   "metadata": {},
   "outputs": [],
   "source": []
  }
 ],
 "metadata": {
  "kernelspec": {
   "display_name": "Python 3",
   "language": "python",
   "name": "python3"
  },
  "language_info": {
   "codemirror_mode": {
    "name": "ipython",
    "version": 3
   },
   "file_extension": ".py",
   "mimetype": "text/x-python",
   "name": "python",
   "nbconvert_exporter": "python",
   "pygments_lexer": "ipython3",
   "version": "3.10.12"
  }
 },
 "nbformat": 4,
 "nbformat_minor": 2
}
