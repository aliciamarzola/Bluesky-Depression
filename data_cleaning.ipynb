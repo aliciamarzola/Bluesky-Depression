{
 "cells": [
  {
   "cell_type": "code",
   "execution_count": 2,
   "metadata": {},
   "outputs": [],
   "source": [
    "import pandas as pd \n",
    "import numpy as np \n",
    "import matplotlib.pyplot as plt "
   ]
  },
  {
   "cell_type": "code",
   "execution_count": 3,
   "metadata": {},
   "outputs": [],
   "source": [
    "scraper1 = pd.read_csv('scrapers/scraper1.csv')\n",
    "scraper2 = pd.read_csv('scrapers/scraper2.csv')\n",
    "scraper3 = pd.read_csv('scrapers/scraper3.csv')\n",
    "scraper4 = pd.read_csv('scrapers/scraper4.csv')"
   ]
  },
  {
   "cell_type": "code",
   "execution_count": 4,
   "metadata": {},
   "outputs": [
    {
     "data": {
      "text/plain": [
       "array(['suicidal thoughts', 'alone', 'kill myself', 'worthless',\n",
       "       \"I'm so tired\", 'depression', 'empty',\n",
       "       'I just want everything to stop',\n",
       "       'No one would notice if I disappeared', 'Life is pointless',\n",
       "       'numb', 'hate my life', \"I'm done trying\", 'want do die',\n",
       "       \"I'm a burden\", 'I wish I could disappear', 'I feel nothing',\n",
       "       'I ruin everything', 'I give up', 'if I was gone'], dtype=object)"
      ]
     },
     "execution_count": 4,
     "metadata": {},
     "output_type": "execute_result"
    }
   ],
   "source": [
    "scraper1['query'].unique()"
   ]
  },
  {
   "cell_type": "code",
   "execution_count": 5,
   "metadata": {},
   "outputs": [
    {
     "data": {
      "text/plain": [
       "array([\"I'm gonna kms\", 'wanna die', 'wanna dissappear', 'wanna kms',\n",
       "       'hate my life', 'burden', 'hate myself', 'wish I was dead',\n",
       "       'suicidal', 'depressive', 'if I was gone', 'if I d!e',\n",
       "       'feel empty inside', \"hate who I've become\", \"I'm not living\",\n",
       "       'imma kms', 'No one needs me', 'if I killed ', 'if I die',\n",
       "       \"I'll be okay... eventually\", 'anxiety', 'su!cidal thoughts',\n",
       "       'fml', 'lowkey done', 'wanna d!e', 'shame', 'diagnosed depression',\n",
       "       'suic!dal thoughts', 'depressive thoughts '], dtype=object)"
      ]
     },
     "execution_count": 5,
     "metadata": {},
     "output_type": "execute_result"
    }
   ],
   "source": [
    "scraper2['query'].unique()"
   ]
  },
  {
   "cell_type": "code",
   "execution_count": 6,
   "metadata": {},
   "outputs": [
    {
     "data": {
      "text/plain": [
       "array(['emptyness', 'gonna cry', 'desperat', 'wanna cry', 'im trash',\n",
       "       'stress', 'hate myself', 'helpless', 'depress', 'feel useless',\n",
       "       'solitude', 'have no future', 'cry all day', 'feel lost',\n",
       "       'unmotivate', 'meaningless', 'deep sadness', \"can't feel anything\",\n",
       "       'mentally exausted', 'alone', 'guilt', 'sad', 'willing to live',\n",
       "       'im useless', 'no way out', 'tired of everything',\n",
       "       'emotional fatigue', 'end of the line', 'dead inside',\n",
       "       'feeling useless', 'overwhelmed', 'fear', \"don't feel anything\",\n",
       "       'impotent', 'feel guilty'], dtype=object)"
      ]
     },
     "execution_count": 6,
     "metadata": {},
     "output_type": "execute_result"
    }
   ],
   "source": [
    "scraper3['query'].unique()"
   ]
  },
  {
   "cell_type": "code",
   "execution_count": 7,
   "metadata": {},
   "outputs": [
    {
     "data": {
      "text/plain": [
       "array(['i want to disappear', 'nothing matters',\n",
       "       \"i'm tired of everything\", \"can't take it anymore\",\n",
       "       \"i don't want to be here\", 'feeling great', 'i feel empty'],\n",
       "      dtype=object)"
      ]
     },
     "execution_count": 7,
     "metadata": {},
     "output_type": "execute_result"
    }
   ],
   "source": [
    "queries = ['i want to disappear', 'nothing matters',\n",
    "       \"i'm tired of everything\", \"can't take it anymore\",\n",
    "       \"i don't want to be here\", 'feeling great', 'i feel empty']\n",
    "\n",
    "scraper4 = scraper4.loc[scraper4['query'].isin(queries)]\n",
    "scraper4['query'].unique()"
   ]
  },
  {
   "cell_type": "code",
   "execution_count": 8,
   "metadata": {},
   "outputs": [
    {
     "data": {
      "text/plain": [
       "Index(['authorAvatar', 'authorId', 'authorName', 'authorUsername', 'createdAt',\n",
       "       'id', 'images/0/alt', 'images/0/aspectRatio/$type',\n",
       "       'images/0/aspectRatio/height', 'images/0/aspectRatio/width',\n",
       "       'images/0/fullsize', 'images/0/thumb', 'images/1/alt',\n",
       "       'images/1/aspectRatio/height', 'images/1/aspectRatio/width',\n",
       "       'images/1/fullsize', 'images/1/thumb', 'images/2/alt',\n",
       "       'images/2/aspectRatio/height', 'images/2/aspectRatio/width',\n",
       "       'images/2/fullsize', 'images/2/thumb', 'images/3/alt',\n",
       "       'images/3/aspectRatio/height', 'images/3/aspectRatio/width',\n",
       "       'images/3/fullsize', 'images/3/thumb', 'langs/0', 'langs/1', 'langs/2',\n",
       "       'likeCount', 'link/description', 'link/thumb', 'link/title', 'link/uri',\n",
       "       'primaryImage', 'query', 'replyCount', 'repostCount', 'text', 'url'],\n",
       "      dtype='object')"
      ]
     },
     "execution_count": 8,
     "metadata": {},
     "output_type": "execute_result"
    }
   ],
   "source": [
    "scraper3.columns"
   ]
  },
  {
   "cell_type": "code",
   "execution_count": 9,
   "metadata": {},
   "outputs": [
    {
     "name": "stdout",
     "output_type": "stream",
     "text": [
      "<class 'pandas.core.frame.DataFrame'>\n",
      "Index: 16695 entries, 0 to 7029\n",
      "Data columns (total 8 columns):\n",
      " #   Column       Non-Null Count  Dtype \n",
      "---  ------       --------------  ----- \n",
      " 0   text         16623 non-null  object\n",
      " 1   repostCount  16695 non-null  object\n",
      " 2   replyCount   16695 non-null  object\n",
      " 3   likeCount    16695 non-null  object\n",
      " 4   link         16695 non-null  int64 \n",
      " 5   image        16695 non-null  int64 \n",
      " 6   createdAt    16695 non-null  object\n",
      " 7   depressive   16695 non-null  int64 \n",
      "dtypes: int64(3), object(5)\n",
      "memory usage: 1.1+ MB\n"
     ]
    }
   ],
   "source": [
    "dataset = pd.concat([scraper1, scraper2, scraper3, scraper4])\n",
    "\n",
    "dataset['link'] = dataset.apply(lambda row: 0 if pd.isna(row['link/uri']) else 1, axis=1)\n",
    "dataset['image'] = dataset.apply(lambda row: 0 if pd.isna(row['images/0/alt']) else 1, axis=1)\n",
    "\n",
    "dataset = dataset[['text', 'repostCount', 'replyCount', 'likeCount', 'link', 'image', 'createdAt']]\n",
    "dataset['depressive'] = 0\n",
    "\n",
    "dataset.info()"
   ]
  },
  {
   "cell_type": "code",
   "execution_count": 10,
   "metadata": {},
   "outputs": [
    {
     "name": "stdout",
     "output_type": "stream",
     "text": [
      "<class 'pandas.core.frame.DataFrame'>\n",
      "Index: 15398 entries, 0 to 7028\n",
      "Data columns (total 8 columns):\n",
      " #   Column       Non-Null Count  Dtype \n",
      "---  ------       --------------  ----- \n",
      " 0   text         15398 non-null  object\n",
      " 1   repostCount  15398 non-null  object\n",
      " 2   replyCount   15398 non-null  object\n",
      " 3   likeCount    15398 non-null  object\n",
      " 4   link         15398 non-null  int64 \n",
      " 5   image        15398 non-null  int64 \n",
      " 6   createdAt    15398 non-null  object\n",
      " 7   depressive   15398 non-null  int64 \n",
      "dtypes: int64(3), object(5)\n",
      "memory usage: 1.1+ MB\n"
     ]
    }
   ],
   "source": [
    "dataset = dataset.drop_duplicates(subset=['text'])\n",
    "dataset = dataset.dropna(subset=['text'])\n",
    "\n",
    "dataset.info()"
   ]
  },
  {
   "cell_type": "code",
   "execution_count": null,
   "metadata": {},
   "outputs": [],
   "source": [
    "dataset['depressive'] = dataset['depressive'].astype('Int64')"
   ]
  },
  {
   "cell_type": "code",
   "execution_count": 12,
   "metadata": {},
   "outputs": [],
   "source": [
    "dataset.to_csv('dataset-characterization.csv')"
   ]
  },
  {
   "cell_type": "code",
   "execution_count": null,
   "metadata": {},
   "outputs": [],
   "source": []
  }
 ],
 "metadata": {
  "kernelspec": {
   "display_name": "Python 3",
   "language": "python",
   "name": "python3"
  },
  "language_info": {
   "codemirror_mode": {
    "name": "ipython",
    "version": 3
   },
   "file_extension": ".py",
   "mimetype": "text/x-python",
   "name": "python",
   "nbconvert_exporter": "python",
   "pygments_lexer": "ipython3",
   "version": "3.10.12"
  }
 },
 "nbformat": 4,
 "nbformat_minor": 2
}
