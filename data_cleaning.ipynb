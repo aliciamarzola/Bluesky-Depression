{
 "cells": [
  {
   "cell_type": "code",
   "execution_count": 5,
   "metadata": {},
   "outputs": [],
   "source": [
    "import pandas as pd \n",
    "import numpy as np \n",
    "import matplotlib.pyplot as plt "
   ]
  },
  {
   "cell_type": "code",
   "execution_count": 6,
   "metadata": {},
   "outputs": [],
   "source": [
    "scraper1 = pd.read_csv('scrapers/scraper1.csv')\n",
    "scraper2 = pd.read_csv('scrapers/scraper2.csv')\n",
    "scraper3 = pd.read_csv('scrapers/scraper3.csv')"
   ]
  },
  {
   "cell_type": "code",
   "execution_count": 7,
   "metadata": {},
   "outputs": [
    {
     "data": {
      "text/plain": [
       "array(['suicidal thoughts', 'alone', 'kill myself', 'worthless',\n",
       "       \"I'm so tired\", 'depression', 'empty',\n",
       "       'I just want everything to stop',\n",
       "       'No one would notice if I disappeared', 'Life is pointless',\n",
       "       'numb', 'hate my life', \"I'm done trying\", 'want do die',\n",
       "       \"I'm a burden\", 'I wish I could disappear', 'I feel nothing',\n",
       "       'I ruin everything', 'I give up', 'if I was gone'], dtype=object)"
      ]
     },
     "execution_count": 7,
     "metadata": {},
     "output_type": "execute_result"
    }
   ],
   "source": [
    "scraper1['query'].unique()"
   ]
  },
  {
   "cell_type": "code",
   "execution_count": 8,
   "metadata": {},
   "outputs": [
    {
     "data": {
      "text/plain": [
       "array([\"I'm gonna kms\", 'wanna die', 'wanna dissappear', 'wanna kms',\n",
       "       'hate my life', 'burden', 'hate myself', 'wish I was dead',\n",
       "       'suicidal', 'depressive', 'if I was gone', 'if I d!e',\n",
       "       'feel empty inside', \"hate who I've become\", \"I'm not living\",\n",
       "       'imma kms', 'No one needs me', 'if I killed ', 'if I die',\n",
       "       \"I'll be okay... eventually\", 'anxiety', 'su!cidal thoughts',\n",
       "       'fml', 'lowkey done', 'wanna d!e', 'shame', 'diagnosed depression',\n",
       "       'suic!dal thoughts', 'depressive thoughts '], dtype=object)"
      ]
     },
     "execution_count": 8,
     "metadata": {},
     "output_type": "execute_result"
    }
   ],
   "source": [
    "scraper2['query'].unique()"
   ]
  },
  {
   "cell_type": "code",
   "execution_count": 9,
   "metadata": {},
   "outputs": [
    {
     "data": {
      "text/plain": [
       "array(['emptyness', 'gonna cry', 'desperat', 'wanna cry', 'im trash',\n",
       "       'stress', 'hate myself', 'helpless', 'depress', 'feel useless',\n",
       "       'solitude', 'have no future', 'cry all day', 'feel lost',\n",
       "       'unmotivate', 'meaningless', 'deep sadness', \"can't feel anything\",\n",
       "       'mentally exausted', 'alone', 'guilt', 'sad', 'willing to live',\n",
       "       'im useless', 'no way out', 'tired of everything',\n",
       "       'emotional fatigue', 'end of the line', 'dead inside',\n",
       "       'feeling useless', 'overwhelmed', 'fear', \"don't feel anything\",\n",
       "       'impotent', 'feel guilty'], dtype=object)"
      ]
     },
     "execution_count": 9,
     "metadata": {},
     "output_type": "execute_result"
    }
   ],
   "source": [
    "scraper3['query'].unique()"
   ]
  },
  {
   "cell_type": "code",
   "execution_count": 10,
   "metadata": {},
   "outputs": [
    {
     "data": {
      "text/plain": [
       "Index(['authorAvatar', 'authorId', 'authorName', 'authorUsername', 'createdAt',\n",
       "       'id', 'images/0/alt', 'images/0/aspectRatio/$type',\n",
       "       'images/0/aspectRatio/height', 'images/0/aspectRatio/width',\n",
       "       'images/0/fullsize', 'images/0/thumb', 'images/1/alt',\n",
       "       'images/1/aspectRatio/height', 'images/1/aspectRatio/width',\n",
       "       'images/1/fullsize', 'images/1/thumb', 'images/2/alt',\n",
       "       'images/2/aspectRatio/height', 'images/2/aspectRatio/width',\n",
       "       'images/2/fullsize', 'images/2/thumb', 'images/3/alt',\n",
       "       'images/3/aspectRatio/height', 'images/3/aspectRatio/width',\n",
       "       'images/3/fullsize', 'images/3/thumb', 'langs/0', 'langs/1', 'langs/2',\n",
       "       'likeCount', 'link/description', 'link/thumb', 'link/title', 'link/uri',\n",
       "       'primaryImage', 'query', 'replyCount', 'repostCount', 'text', 'url'],\n",
       "      dtype='object')"
      ]
     },
     "execution_count": 10,
     "metadata": {},
     "output_type": "execute_result"
    }
   ],
   "source": [
    "scraper3.columns"
   ]
  },
  {
   "cell_type": "code",
   "execution_count": null,
   "metadata": {},
   "outputs": [
    {
     "data": {
      "text/html": [
       "<div>\n",
       "<style scoped>\n",
       "    .dataframe tbody tr th:only-of-type {\n",
       "        vertical-align: middle;\n",
       "    }\n",
       "\n",
       "    .dataframe tbody tr th {\n",
       "        vertical-align: top;\n",
       "    }\n",
       "\n",
       "    .dataframe thead th {\n",
       "        text-align: right;\n",
       "    }\n",
       "</style>\n",
       "<table border=\"1\" class=\"dataframe\">\n",
       "  <thead>\n",
       "    <tr style=\"text-align: right;\">\n",
       "      <th></th>\n",
       "      <th>text</th>\n",
       "      <th>repostCount</th>\n",
       "      <th>replyCount</th>\n",
       "      <th>link</th>\n",
       "      <th>image</th>\n",
       "      <th>createdAt</th>\n",
       "      <th>depressive</th>\n",
       "    </tr>\n",
       "  </thead>\n",
       "  <tbody>\n",
       "    <tr>\n",
       "      <th>0</th>\n",
       "      <td>you are worthy even if you:\\n\\nare battling de...</td>\n",
       "      <td>3</td>\n",
       "      <td>1</td>\n",
       "      <td>0</td>\n",
       "      <td>1</td>\n",
       "      <td>2024-10-12T21:52:30.121Z</td>\n",
       "      <td>0</td>\n",
       "    </tr>\n",
       "    <tr>\n",
       "      <th>1</th>\n",
       "      <td>Well dunno really \\nJust saw them posting suic...</td>\n",
       "      <td>0</td>\n",
       "      <td>1</td>\n",
       "      <td>0</td>\n",
       "      <td>0</td>\n",
       "      <td>2023-09-03T03:07:41.109Z</td>\n",
       "      <td>0</td>\n",
       "    </tr>\n",
       "    <tr>\n",
       "      <th>2</th>\n",
       "      <td>There was a claim — maybe a rumor — that three...</td>\n",
       "      <td>60</td>\n",
       "      <td>41</td>\n",
       "      <td>0</td>\n",
       "      <td>0</td>\n",
       "      <td>2024-11-08T19:21:39.224Z</td>\n",
       "      <td>0</td>\n",
       "    </tr>\n",
       "    <tr>\n",
       "      <th>3</th>\n",
       "      <td>#SuicidePrevention #Depression #Anxiety #Bully...</td>\n",
       "      <td>0</td>\n",
       "      <td>0</td>\n",
       "      <td>1</td>\n",
       "      <td>0</td>\n",
       "      <td>2022-03-16T13:10:05Z</td>\n",
       "      <td>0</td>\n",
       "    </tr>\n",
       "    <tr>\n",
       "      <th>4</th>\n",
       "      <td>ah shit damn guess i should have just been kil...</td>\n",
       "      <td>0</td>\n",
       "      <td>2</td>\n",
       "      <td>0</td>\n",
       "      <td>0</td>\n",
       "      <td>2024-09-06T22:19:19.694Z</td>\n",
       "      <td>0</td>\n",
       "    </tr>\n",
       "  </tbody>\n",
       "</table>\n",
       "</div>"
      ],
      "text/plain": [
       "                                                text  repostCount  replyCount  \\\n",
       "0  you are worthy even if you:\\n\\nare battling de...            3           1   \n",
       "1  Well dunno really \\nJust saw them posting suic...            0           1   \n",
       "2  There was a claim — maybe a rumor — that three...           60          41   \n",
       "3  #SuicidePrevention #Depression #Anxiety #Bully...            0           0   \n",
       "4  ah shit damn guess i should have just been kil...            0           2   \n",
       "\n",
       "   link  image                 createdAt  depressive  \n",
       "0     0      1  2024-10-12T21:52:30.121Z           0  \n",
       "1     0      0  2023-09-03T03:07:41.109Z           0  \n",
       "2     0      0  2024-11-08T19:21:39.224Z           0  \n",
       "3     1      0      2022-03-16T13:10:05Z           0  \n",
       "4     0      0  2024-09-06T22:19:19.694Z           0  "
      ]
     },
     "execution_count": 12,
     "metadata": {},
     "output_type": "execute_result"
    }
   ],
   "source": [
    "dataset = pd.concat([scraper1, scraper2, scraper3])\n",
    "\n",
    "dataset['link'] = dataset.apply(lambda row: 0 if pd.isna(row['link/uri']) else 1, axis=1)\n",
    "dataset['image'] = dataset.apply(lambda row: 0 if pd.isna(row['images/0/alt']) else 1, axis=1)\n",
    "\n",
    "dataset = dataset[['text', 'repostCount', 'replyCount', 'likeCount', 'link', 'image', 'createdAt']]\n",
    "dataset['depressive'] = 0\n",
    "\n",
    "dataset.head()"
   ]
  },
  {
   "cell_type": "code",
   "execution_count": 14,
   "metadata": {},
   "outputs": [],
   "source": [
    "dataset.to_csv('dataset.csv')"
   ]
  },
  {
   "cell_type": "code",
   "execution_count": null,
   "metadata": {},
   "outputs": [],
   "source": []
  }
 ],
 "metadata": {
  "kernelspec": {
   "display_name": "Python 3",
   "language": "python",
   "name": "python3"
  },
  "language_info": {
   "codemirror_mode": {
    "name": "ipython",
    "version": 3
   },
   "file_extension": ".py",
   "mimetype": "text/x-python",
   "name": "python",
   "nbconvert_exporter": "python",
   "pygments_lexer": "ipython3",
   "version": "3.10.12"
  }
 },
 "nbformat": 4,
 "nbformat_minor": 2
}
