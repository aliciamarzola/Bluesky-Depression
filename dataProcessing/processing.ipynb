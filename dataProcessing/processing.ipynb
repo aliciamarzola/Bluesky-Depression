{
 "cells": [
  {
   "cell_type": "markdown",
   "id": "d0c1ab91",
   "metadata": {},
   "source": [
    "Expandir contrações\n",
    "\n",
    "Exemplo: I'll -> I will \n",
    "\n",
    "resultado: dataset_expandido.csv"
   ]
  },
  {
   "cell_type": "code",
   "execution_count": 30,
   "id": "c90f553e",
   "metadata": {},
   "outputs": [
    {
     "name": "stdout",
     "output_type": "stream",
     "text": [
      "Concluído! Contrações expandidas salvas em 'dataset_expandido.csv'.\n"
     ]
    }
   ],
   "source": [
    "import pandas as pd\n",
    "import contractions\n",
    "\n",
    "# Lê o dataset\n",
    "df = pd.read_csv(\"dataset_final_limpo.csv\")\n",
    "\n",
    "# Função para expandir abreviações\n",
    "def expand_contractions(text):\n",
    "    if pd.isna(text):\n",
    "        return text\n",
    "    return contractions.fix(text)\n",
    "\n",
    "# Aplica a expansão na coluna \"text\"\n",
    "df['text'] = df['text'].apply(expand_contractions)\n",
    "\n",
    "# Salva o resultado\n",
    "df.to_csv(\"dataset_expandido.csv\", index=False)\n",
    "\n",
    "print(\"Concluído! Contrações expandidas salvas em 'dataset_expandido.csv'.\")\n"
   ]
  },
  {
   "cell_type": "markdown",
   "id": "9e1a33e0",
   "metadata": {},
   "source": [
    "remover menções\n",
    "\n",
    "@gabriel\n",
    "\n",
    "resultado: dataset_sem_mencoes.csv"
   ]
  },
  {
   "cell_type": "code",
   "execution_count": 31,
   "id": "6d371459",
   "metadata": {},
   "outputs": [],
   "source": [
    "#remover mentions\n",
    "import re\n",
    "\n",
    "df = pd.read_csv(\"dataset_expandido.csv\")\n",
    "\n",
    "#remover apenas @\n",
    "def remove_mentions(text):\n",
    "    if pd.isna(text):\n",
    "        return text\n",
    "    return re.sub(r'@', '', text)\n",
    "\n",
    "df['text'] = df['text'].apply(remove_mentions)\n",
    "\n",
    "# Salva o resultado\n",
    "df.to_csv(\"dataset_sem_mencoes.csv\", index=False)\n"
   ]
  },
  {
   "cell_type": "markdown",
   "id": "491a9bcc",
   "metadata": {},
   "source": [
    "remover #\n",
    "\n",
    "#mentalhealth -> mentalhealth\n",
    "\n",
    "resultado: dataset_sem_hashtags.csv"
   ]
  },
  {
   "cell_type": "code",
   "execution_count": 14,
   "id": "abc7375f",
   "metadata": {},
   "outputs": [],
   "source": [
    "#remove #\n",
    "\n",
    "df = pd.read_csv(\"dataset_sem_mencoes.csv\")\n",
    "\n",
    "def remove_hashtags(text):\n",
    "    if pd.isna(text):\n",
    "        return text\n",
    "    return re.sub(r'#', '', text)\n",
    "\n",
    "df['text'] = df['text'].apply(remove_hashtags)\n",
    "\n",
    "# Salva o resultado\n",
    "df.to_csv(\"dataset_sem_hashtags.csv\", index=False)"
   ]
  },
  {
   "cell_type": "markdown",
   "id": "fb57451f",
   "metadata": {},
   "source": [
    "Separação de palavras juntas\n",
    "\n",
    "Exemplo: mentalheath -> mental health\n",
    "\n",
    "resultado: dataset_palavras_separadas.csv"
   ]
  },
  {
   "cell_type": "code",
   "execution_count": 20,
   "id": "d5b12295",
   "metadata": {},
   "outputs": [],
   "source": [
    "import wordninja\n",
    "import pandas as pd\n",
    "\n",
    "df = pd.read_csv(\"dataset_sem_hashtags.csv\")\n",
    "\n",
    "def separar_palavras(text):\n",
    "    if pd.isnull(text):\n",
    "        return \"\"\n",
    "\n",
    "    linhas = text.splitlines()  # preserva as quebras de linha\n",
    "    linhas_processadas = []\n",
    "\n",
    "    for linha in linhas:\n",
    "        words = []\n",
    "        for word in linha.split():\n",
    "            if len(word) > 6 and word.isalpha():\n",
    "                split = wordninja.split(word)\n",
    "                words.extend(split if len(split) > 1 else [word])\n",
    "            else:\n",
    "                words.append(word)\n",
    "        linha_processada = ' '.join(words)\n",
    "        linhas_processadas.append(linha_processada)\n",
    "\n",
    "    return '\\n'.join(linhas_processadas)  # junta novamente com \\n\n",
    "\n",
    "df['text'] = df['text'].astype(str).apply(separar_palavras)\n",
    "\n",
    "df.to_csv(\"dataset_palavras_separadas.csv\", index=False)\n"
   ]
  },
  {
   "cell_type": "markdown",
   "id": "fc635be3",
   "metadata": {},
   "source": [
    "Remoção de URLs\n",
    "\n",
    "resultado: dataset_sem_urls.csv"
   ]
  },
  {
   "cell_type": "code",
   "execution_count": 29,
   "id": "a5f5d96d",
   "metadata": {},
   "outputs": [
    {
     "name": "stdout",
     "output_type": "stream",
     "text": [
      "Concluído! URLs removidas e salvas em 'dataset_sem_urls.csv'.\n"
     ]
    }
   ],
   "source": [
    "import pandas as pd\n",
    "import re\n",
    "\n",
    "# Suponha que você já tenha carregado seu dataset\n",
    "# Exemplo de carregamento (ajuste o caminho conforme necessário)\n",
    "df = pd.read_csv('dataset_palavras_separadas.csv')\n",
    "\n",
    "def remove_urls(text):\n",
    "    # Remove padrões comuns de URLs: http(s):// ou www.\n",
    "    return re.sub(r'https?://\\S+|www\\.\\S+', '', text)\n",
    "\n",
    "# Aplica a função apenas na coluna 'text'\n",
    "df['text'] = df['text'].astype(str).apply(remove_urls)\n",
    "\n",
    "# Salva o resultado em um novo arquivo CSV\n",
    "df.to_csv('dataset_sem_urls.csv', index=False)\n",
    "print(\"Concluído! URLs removidas e salvas em 'dataset_sem_urls.csv'.\")\n"
   ]
  },
  {
   "cell_type": "markdown",
   "id": "090c72e3",
   "metadata": {},
   "source": [
    "Remoção de abreviações\n",
    "\n",
    "Exemplo: kms ->  kill myself\n",
    "\n",
    "resultado: dataset_abreviacoes.csv"
   ]
  },
  {
   "cell_type": "code",
   "execution_count": 32,
   "id": "32ce1f00",
   "metadata": {},
   "outputs": [],
   "source": [
    "abbreviations = {\n",
    "    \"afaik\": \"as far as I know\",\n",
    "    \"afk\": \"away from keyboard\",\n",
    "    \"asap\": \"as soon as possible\",\n",
    "    \"atm\": \"at the moment\",\n",
    "    \"b4\": \"before\",\n",
    "    \"b/c\": \"because\",\n",
    "    \"bcs\": \"because\",\n",
    "    \"brb\": \"be right back\",\n",
    "    \"btw\": \"by the way\",\n",
    "    \"bff\": \"best friend forever\",\n",
    "    \"dm\": \"direct message\",\n",
    "    \"fml\": \"fuck my life\",\n",
    "    \"fomo\": \"fear of missing out\",\n",
    "    \"ftw\": \"for the win\",\n",
    "    \"gg\": \"good game\",\n",
    "    \"g2g\": \"got to go\",\n",
    "    \"gtg\": \"got to go\",\n",
    "    \"hbu\": \"how about you\",\n",
    "    \"hmu\": \"hit me up\",\n",
    "    \"idc\": \"I don't care\",\n",
    "    \"idk\": \"I don't know\",\n",
    "    \"ikr\": \"I know right\",\n",
    "    \"ily\": \"I love you\",\n",
    "    \"imho\": \"in my humble opinion\",\n",
    "    \"imo\": \"in my opinion\",\n",
    "    \"irl\": \"in real life\",\n",
    "    \"jsyk\": \"just so you know\",\n",
    "    \"jk\": \"just kidding\",\n",
    "    \"k\": \"okay\",\n",
    "    \"kms\": \"kill myself\",\n",
    "    \"lmk\": \"let me know\",\n",
    "    \"lol\": \"laughing out loud\",\n",
    "    \"lmao\": \"laughing my ass off\",\n",
    "    \"nvm\": \"never mind\",\n",
    "    \"omg\": \"oh my god\",\n",
    "    \"omw\": \"on my way\",\n",
    "    \"rn\": \"right now\",\n",
    "    \"rofl\": \"rolling on the floor laughing\",\n",
    "    \"smh\": \"shaking my head\",\n",
    "    \"tbh\": \"to be honest\",\n",
    "    \"tfw\": \"that feeling when\",\n",
    "    \"tho\": \"though\",\n",
    "    \"thx\": \"thanks\",\n",
    "    \"ttyl\": \"talk to you later\",\n",
    "    \"ty\": \"thank you\",\n",
    "    \"wbu\": \"what about you\",\n",
    "    \"wdym\": \"what do you mean\",\n",
    "    \"wth\": \"what the hell\",\n",
    "    \"wtf\": \"what the fuck\",\n",
    "    \"yw\": \"you’re welcome\",\n",
    "    \"imfine\": \"I'm fine\",  # frequentemente usado sarcasticamente\n",
    "    \"idek\": \"I don't even know\"\n",
    "}\n"
   ]
  },
  {
   "cell_type": "code",
   "execution_count": 38,
   "id": "e204c4e0",
   "metadata": {},
   "outputs": [],
   "source": [
    "df = pd.read_csv('dataset_sem_urls.csv')\n",
    "\n",
    "import string\n",
    "\n",
    "def expand_abbreviations_preserve_newlines(text, abbr_dict):\n",
    "    if pd.isnull(text):\n",
    "        return \"\"\n",
    "    \n",
    "    lines = text.split('\\n')\n",
    "    expanded_lines = []\n",
    "\n",
    "    for line in lines:\n",
    "        words = line.split()\n",
    "        expanded = []\n",
    "\n",
    "        for word in words:\n",
    "            # Remove pontuação das bordas da palavra, mas guarda ela para restaurar depois\n",
    "            prefix = ''\n",
    "            suffix = ''\n",
    "\n",
    "            while len(word) > 0 and word[0] in string.punctuation:\n",
    "                prefix += word[0]\n",
    "                word = word[1:]\n",
    "\n",
    "            while len(word) > 0 and word[-1] in string.punctuation:\n",
    "                suffix = word[-1] + suffix\n",
    "                word = word[:-1]\n",
    "\n",
    "            # Expande se estiver no dicionário\n",
    "            expanded_word = abbr_dict.get(word.lower(), word)\n",
    "\n",
    "            # Junta novamente com a pontuação original\n",
    "            expanded.append(prefix + expanded_word + suffix)\n",
    "\n",
    "        expanded_lines.append(' '.join(expanded))\n",
    "\n",
    "    return '\\n'.join(expanded_lines)\n",
    "\n",
    "\n",
    "\n",
    "df['text'] = df['text'].apply(lambda x: expand_abbreviations_preserve_newlines(x, abbreviations))\n",
    "\n",
    "\n",
    "# Salva o resultado em um novo arquivo CSV\n",
    "df.to_csv('dataset_abreviacoes.csv', index=False)\n",
    "\n"
   ]
  },
  {
   "cell_type": "markdown",
   "id": "44ed4792",
   "metadata": {},
   "source": [
    "TESTE"
   ]
  },
  {
   "cell_type": "code",
   "execution_count": 28,
   "id": "39654c18",
   "metadata": {},
   "outputs": [
    {
     "name": "stdout",
     "output_type": "stream",
     "text": [
      "Reading twitter - 1grams ...\n"
     ]
    },
    {
     "name": "stderr",
     "output_type": "stream",
     "text": [
      "/home/rolla/.local/lib/python3.10/site-packages/ekphrasis/classes/exmanager.py:14: FutureWarning: Possible nested set at position 42\n",
      "  regexes = {k.lower(): re.compile(self.expressions[k]) for k, v in\n"
     ]
    }
   ],
   "source": [
    "import pandas as pd\n",
    "from ekphrasis.classes.preprocessor import TextPreProcessor\n",
    "from ekphrasis.dicts.emoticons import emoticons\n",
    "\n",
    "# Carregue seu dataset\n",
    "df = pd.read_csv(\"dataset_sem_urls.csv\")\n",
    "\n",
    "# Configuração do Ekphrasis\n",
    "text_processor = TextPreProcessor(\n",
    "    normalize=['url', 'email', 'percent', 'money', 'phone', 'user', 'time', 'date', 'number'],\n",
    "    annotate={\"hashtag\", \"allcaps\", \"elongated\", \"repeated\", 'emphasis', 'censored'},\n",
    "    fix_html=True,\n",
    "    segmenter=\"twitter\",  # funciona bem com textos informais, mesmo fora do Twitter\n",
    "    corrector=\"twitter\",  # corrige palavras comuns com erro\n",
    "    unpack_hashtags=False,  # se quiser separar hashtags como #mentalhealth → mental health\n",
    "    unpack_contractions=True,  # don't → do not\n",
    "    spell_correct_elong=False,\n",
    "    tokenizer=None,\n",
    "    dicts=[emoticons]  # expande emojis/emoticons como \":)\" → \"smile\"\n",
    ")\n",
    "\n",
    "# Função para processar um texto\n",
    "def process_text(text):\n",
    "    if pd.isnull(text):\n",
    "        return \"\"\n",
    "    return \" \".join(text_processor.pre_process_doc(text))\n",
    "\n",
    "# Aplica no DataFrame\n",
    "df['text'] = df['text'].astype(str).apply(process_text)\n",
    "\n",
    "# Salva o novo CSV\n",
    "df.to_csv(\"dataset_ekphrasis.csv\", index=False)\n"
   ]
  }
 ],
 "metadata": {
  "kernelspec": {
   "display_name": "Python 3",
   "language": "python",
   "name": "python3"
  },
  "language_info": {
   "codemirror_mode": {
    "name": "ipython",
    "version": 3
   },
   "file_extension": ".py",
   "mimetype": "text/x-python",
   "name": "python",
   "nbconvert_exporter": "python",
   "pygments_lexer": "ipython3",
   "version": "3.10.12"
  }
 },
 "nbformat": 4,
 "nbformat_minor": 5
}
